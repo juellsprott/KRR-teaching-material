{
 "cells": [
  {
   "cell_type": "markdown",
   "metadata": {},
   "source": [
    "# ASP solving with clingo in Python\n",
    "\n",
    "This is a small example to show how you can do Answer Set Programming with [clingo](https://potassco.org/clingo/) (part of the Potsdam Answer Set Solving Collection; or *Potassco*, for short) in Python.\n",
    "\n",
    "First, install clingo, e.g., using:\n",
    "`conda install -c potassco clingo`\n",
    "\n",
    "To use clingo in Python, import the clingo package."
   ]
  },
  {
   "cell_type": "code",
   "execution_count": 1,
   "metadata": {},
   "outputs": [],
   "source": [
    "import clingo"
   ]
  },
  {
   "cell_type": "code",
   "execution_count": 5,
   "metadata": {},
   "outputs": [
    {
     "name": "stdout",
     "output_type": "stream",
     "text": [
      "Python 3.11.7\n"
     ]
    }
   ],
   "source": [
    "!python --version"
   ]
  },
  {
   "cell_type": "markdown",
   "metadata": {},
   "source": [
    "You can then write an answer set program as a string.\n",
    "\n",
    "For an explanation of the syntax of answer set programs (that clingo uses) and for examples, see Potassco's [Getting Started page](https://potassco.org/doc/start/) and their [guide](https://github.com/potassco/guide/releases/tag/v2.2.0).\n",
    "\n",
    "Let's take the following simple example."
   ]
  },
  {
   "cell_type": "code",
   "execution_count": 6,
   "metadata": {},
   "outputs": [],
   "source": [
    "asp_program = \"\"\"\n",
    "    #const k=3.\n",
    "    number(1..k).\n",
    "    left(X) :- not right(X), number(X).\n",
    "    right(X) :- not left(X), number(X).\n",
    "    :- right(2).\n",
    "\"\"\""
   ]
  },
  {
   "cell_type": "markdown",
   "metadata": {},
   "source": [
    "We then create a clingo Control object, load the answer set program, and do the grounding (compiling away variables)."
   ]
  },
  {
   "cell_type": "code",
   "execution_count": 2,
   "metadata": {},
   "outputs": [
    {
     "ename": "NameError",
     "evalue": "name 'asp_program' is not defined",
     "output_type": "error",
     "traceback": [
      "\u001b[0;31m---------------------------------------------------------------------------\u001b[0m",
      "\u001b[0;31mNameError\u001b[0m                                 Traceback (most recent call last)",
      "Cell \u001b[0;32mIn[2], line 2\u001b[0m\n\u001b[1;32m      1\u001b[0m control \u001b[38;5;241m=\u001b[39m clingo\u001b[38;5;241m.\u001b[39mControl()\n\u001b[0;32m----> 2\u001b[0m control\u001b[38;5;241m.\u001b[39madd(\u001b[38;5;124m\"\u001b[39m\u001b[38;5;124mbase\u001b[39m\u001b[38;5;124m\"\u001b[39m, [], \u001b[43masp_program\u001b[49m)\n\u001b[1;32m      3\u001b[0m control\u001b[38;5;241m.\u001b[39mground([(\u001b[38;5;124m\"\u001b[39m\u001b[38;5;124mbase\u001b[39m\u001b[38;5;124m\"\u001b[39m, [])])\n",
      "\u001b[0;31mNameError\u001b[0m: name 'asp_program' is not defined"
     ]
    }
   ],
   "source": [
    "control = clingo.Control()\n",
    "control.add(\"base\", [], asp_program)\n",
    "control.ground([(\"base\", [])])"
   ]
  },
  {
   "cell_type": "markdown",
   "metadata": {},
   "source": [
    "Before we ask clingo to find models (answer sets) for our program, we define a function `on_model()` that will be called for each model.\n",
    "\n",
    "For this example, we let this function extract and print some information about literals in the answer set that use the predicates `left/1` and `right/1`."
   ]
  },
  {
   "cell_type": "code",
   "execution_count": 8,
   "metadata": {},
   "outputs": [],
   "source": [
    "def on_model(model):\n",
    "    print(\"ANSWER SET:\")\n",
    "    for atom in model.symbols(atoms=True):\n",
    "        if atom.name == \"right\":\n",
    "            print(\"Right: {}\".format(atom.arguments[0].number))\n",
    "        elif atom.name == \"left\":\n",
    "            print(\"Left: {}\".format(atom.arguments[0].number))"
   ]
  },
  {
   "cell_type": "markdown",
   "metadata": {},
   "source": [
    "We then ask clingo to find a two answer sets for our program, and to call `on_model` on these when they are found."
   ]
  },
  {
   "cell_type": "code",
   "execution_count": 9,
   "metadata": {},
   "outputs": [
    {
     "name": "stdout",
     "output_type": "stream",
     "text": [
      "ANSWER SET:\n",
      "Right: 1\n",
      "Right: 3\n",
      "Left: 2\n",
      "ANSWER SET:\n",
      "Right: 1\n",
      "Left: 2\n",
      "Left: 3\n"
     ]
    }
   ],
   "source": [
    "control.configuration.solve.models = 2  # use 0 if you want to find all models\n",
    "answer = control.solve(on_model=on_model)"
   ]
  },
  {
   "cell_type": "markdown",
   "metadata": {},
   "source": [
    "We can check whether `solve()` found a model or not:"
   ]
  },
  {
   "cell_type": "code",
   "execution_count": 10,
   "metadata": {},
   "outputs": [
    {
     "name": "stdout",
     "output_type": "stream",
     "text": [
      "Found at least one answer set!\n"
     ]
    }
   ],
   "source": [
    "if answer.satisfiable:\n",
    "    print(\"Found at least one answer set!\")\n",
    "else:\n",
    "    print(\"Did not find an answer set!\")"
   ]
  },
  {
   "cell_type": "markdown",
   "metadata": {},
   "source": [
    "## Yielding answer sets\n",
    "\n",
    "Alternatively, instead of using the function `on_model()`, we can iterate over all answer sets. This works as follows."
   ]
  },
  {
   "cell_type": "markdown",
   "metadata": {},
   "source": [
    "ex1_a\n",
    "```\n",
    " a.\n",
    " b :- a, not c, not d.\n",
    " c :- a, not b, not d.\n",
    " d :- a, not b, not c.\n",
    "```\n",
    "ex1_b\n",
    "```\n",
    " a :- not b.\n",
    " b :- not a.\n",
    " c :- not d.\n",
    " d :- not c.\n",
    "```\n",
    "ex1_c\n",
    "```\n",
    " a.\n",
    "```"
   ]
  },
  {
   "cell_type": "code",
   "execution_count": 11,
   "metadata": {},
   "outputs": [],
   "source": []
  },
  {
   "cell_type": "code",
   "execution_count": 88,
   "metadata": {},
   "outputs": [],
   "source": [
    "import matplotlib.pyplot as plt\n",
    "import numpy as np\n",
    "\n",
    "\n",
    "def plot_bounding_boxes(bounding_boxes):\n",
    "    fig, ax = plt.subplots()\n",
    "    num_boxes = len(bounding_boxes)\n",
    "    colors = plt.cm.rainbow(np.linspace(0, 1, num_boxes))\n",
    "\n",
    "    for i, box in enumerate(bounding_boxes):\n",
    "        y_min, y_max, x_min, x_max = box\n",
    "        width = x_max - x_min\n",
    "        height = y_max - y_min\n",
    "        color = colors[i]\n",
    "        rect = plt.Rectangle(\n",
    "            (x_min, y_min),\n",
    "            width,\n",
    "            height,\n",
    "            linewidth=1,\n",
    "            color=color,\n",
    "        )\n",
    "        ax.add_patch(rect)\n",
    "\n",
    "    # Set aspect ratio to 'equal' to maintain square ticks\n",
    "    ax.set_aspect(\"equal\")\n",
    "    ax.autoscale_view()\n",
    "    plt.yticks(np.arange(int(ax.get_ylim()[0]), int(ax.get_ylim()[1]) + 1, 1))\n",
    "    plt.xlabel(\"X-axis\")\n",
    "    plt.ylabel(\"Y-axis\")\n",
    "    plt.title(\"Bounding Boxes\")\n",
    "    plt.grid(True)\n",
    "    plt.show()"
   ]
  },
  {
   "cell_type": "code",
   "execution_count": 1,
   "metadata": {},
   "outputs": [],
   "source": [
    "import clingo\n",
    "\n",
    "with open(\"truck_delivery.lp\", \"r\") as file:\n",
    "    new_program = file.read()"
   ]
  },
  {
   "cell_type": "code",
   "execution_count": 8,
   "metadata": {
    "scrolled": false
   },
   "outputs": [
    {
     "name": "stdout",
     "output_type": "stream",
     "text": [
      "Answer set: {action(1), trucks_done(1,true), trucks_done(2,false)}\n",
      "Answer set: {action(1), trucks_done(1,true), trucks_done(2,false)}\n",
      "Answer set: {action(1), trucks_done(1,true), trucks_done(2,false)}\n",
      "Answer set: {action(1), trucks_done(1,true), trucks_done(2,false)}\n",
      "Answer set: {action(1), trucks_done(1,true), trucks_done(2,false)}\n",
      "Answer set: {action(1), trucks_done(1,true), trucks_done(2,false)}\n",
      "Answer set: {action(1), trucks_done(1,true), trucks_done(2,false)}\n",
      "Answer set: {action(1), trucks_done(1,true), trucks_done(2,false)}\n",
      "Answer set: {action(1), trucks_done(1,true)}\n",
      "Answer set: {action(1), trucks_done(1,true)}\n",
      "Answer set: {action(1), trucks_done(1,true)}\n",
      "Answer set: {action(1), trucks_done(1,true)}\n",
      "Answer set: {action(1), trucks_done(1,true)}\n",
      "Answer set: {action(1), trucks_done(1,true)}\n",
      "Found 14 answer sets!\n"
     ]
    }
   ],
   "source": [
    "import clingo\n",
    "\n",
    "with open(\"truck_delivery.lp\", \"r\") as file:\n",
    "    new_program = file.read()\n",
    "\n",
    "\n",
    "def on_model(model):\n",
    "    sorted_model = [str(atom) for atom in model.symbols(shown=True)]\n",
    "    sorted_model.sort()\n",
    "    if sorted_model:\n",
    "        print(\"Answer set: {{{}}}\".format(\", \".join(sorted_model)))\n",
    "\n",
    "\n",
    "control = clingo.Control()\n",
    "control.add(\"base\", [], new_program)\n",
    "control.ground([(\"base\", [])])\n",
    "\n",
    "control.configuration.solve.models = 0\n",
    "\n",
    "with control.solve(yield_=True, on_model=on_model) as handle:\n",
    "    count = 0\n",
    "    for model in handle:\n",
    "        count += 1\n",
    "        bounding_boxes = []\n",
    "        for item in model.symbols(shown=True):\n",
    "            if item.name == \"positions\":\n",
    "                bounding_boxes.append(\n",
    "                    [\n",
    "                        item.arguments[1].number,\n",
    "                        item.arguments[2].number,\n",
    "                        item.arguments[3].number,\n",
    "                        item.arguments[4].number,\n",
    "                    ]\n",
    "                )\n",
    "        if bounding_boxes:\n",
    "            bounding_boxes.sort()\n",
    "            plot_bounding_boxes(bounding_boxes)\n",
    "    if handle.get().satisfiable:\n",
    "        print(f\"Found {count} answer set{'' if count == 1 else 's'}!\")\n",
    "    else:\n",
    "        print(\"Did not find an answer set!\")\n",
    "    if count < 25:\n",
    "        pass"
   ]
  },
  {
   "cell_type": "markdown",
   "metadata": {},
   "source": [
    "For more information, see the [clingo Python API](https://potassco.org/clingo/python-api/5.5/)."
   ]
  },
  {
   "cell_type": "code",
   "execution_count": null,
   "metadata": {},
   "outputs": [
    {
     "ename": "",
     "evalue": "",
     "output_type": "error",
     "traceback": [
      "\u001b[1;31mThe kernel failed to start as '_psutil_linux' could not be imported from 'most likely due to a circular import'.\n",
      "\u001b[1;31mClick <a href='https://aka.ms/kernelFailuresModuleImportErrFromFile'>here</a> for more info."
     ]
    }
   ],
   "source": []
  },
  {
   "cell_type": "code",
   "execution_count": null,
   "metadata": {},
   "outputs": [],
   "source": []
  }
 ],
 "metadata": {
  "kernelspec": {
   "display_name": "Python 3 (ipykernel)",
   "language": "python",
   "name": "python3"
  },
  "language_info": {
   "codemirror_mode": {
    "name": "ipython",
    "version": 3
   },
   "file_extension": ".py",
   "mimetype": "text/x-python",
   "name": "python",
   "nbconvert_exporter": "python",
   "pygments_lexer": "ipython3",
   "version": "3.11.7"
  }
 },
 "nbformat": 4,
 "nbformat_minor": 4
}
